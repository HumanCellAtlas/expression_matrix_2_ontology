{
 "cells": [
  {
   "cell_type": "markdown",
   "metadata": {},
   "source": [
    "### Matrix semantic map - snippets"
   ]
  },
  {
   "cell_type": "code",
   "execution_count": 1,
   "metadata": {},
   "outputs": [],
   "source": [
    "# Hacking module to python path (assuming local usage from github checkout. Skip this step is installed from pip)\n",
    "import os\n",
    "import sys\n",
    "sys.path.append(os.getcwd()+\"/../src/\")"
   ]
  },
  {
   "cell_type": "code",
   "execution_count": 3,
   "metadata": {},
   "outputs": [
    {
     "name": "stdout",
     "output_type": "stream",
     "text": [
      "../src/json_schema/expression_matrix_semantic_map.json is a valid JSON schema\n"
     ]
    },
    {
     "name": "stderr",
     "output_type": "stream",
     "text": [
      "/repos/expression_matrix_2_ontology/notebooks/../src/matrix_semantic_map/OLS_tools.py:77: UserWarning: The ontology rdfs is not known to OLS\n",
      "  warnings.warn(\"The ontology %s is not known to OLS\" % o)\n"
     ]
    },
    {
     "name": "stdout",
     "output_type": "stream",
     "text": [
      "Validation Passes\n"
     ]
    }
   ],
   "source": [
    "from matrix_semantic_map.matrix_map_tools import MapBuilder\n",
    "\n",
    "# Example loom file used here can be downloaded from http://scope.aertslab.org/\n",
    "# Example csv mapping file can be found at:\n",
    "# https://github.com/HumanCellAtlas/matrix_semantic_map/blob/master/src/matrix_semantic_map/test/resources/Desplan_Fly_AdultOpticLobe_map.tsv\n",
    "\n",
    "# Initialize MapBuilder object for Desplan optic lobe loom dataset (http://scope.aertslab.org/):\n",
    "\n",
    "resources_dir = \"../src/matrix_semantic_map/test/resources/\"\n",
    "\n",
    "mb = MapBuilder(\n",
    "           loom=resources_dir + \"Desplan_Fly_AdultOpticLobe_57k.loom\",\n",
    "           # schema=<schema_path>, # Not needed if running from package or GitHube checkout\n",
    "           cell_type_fields=['attrs.MetaData.clusterings[*].clusters[*].description'],\n",
    "           validate_loom=False) # Example loom file used here doesn't pass latest validation tests.\n",
    "\n",
    "# Load up mapping of clusters to cell types\n",
    "mb.load_csv_map(resources_dir + \"Desplan_Fly_AdultOpticLobe_map.tsv\", sep='\\t')\n",
    "\n",
    "# Add details of ancestors (superclasses) of classes used in annotation.\n",
    "# Warning - this can be quite slow as it involves an OLS API call for each term used in annotation.\n",
    "mb.add_ancestor_lookup()\n",
    "\n",
    "# Commit mapping to loom file.  This loom file can now be used for queries\n",
    "\n",
    "full_map = mb.commit() # commit return json string for full map (#Hmmm - should be data structure...)"
   ]
  },
  {
   "cell_type": "code",
   "execution_count": 4,
   "metadata": {},
   "outputs": [
    {
     "data": {
      "text/plain": [
       "{'CNS glial cell',\n",
       " 'CNS perineurial sheath cell',\n",
       " 'CNS perineurial sheath glial cell',\n",
       " 'CNS subperineurial glial cell',\n",
       " 'GABA-ergic neuron',\n",
       " 'GABAergic neuron',\n",
       " 'SPG',\n",
       " 'T neuron',\n",
       " 'T neuron T2',\n",
       " 'T neuron T3',\n",
       " 'T neuron T4',\n",
       " 'T neuron T5',\n",
       " 'Thing',\n",
       " 'Tm neuron',\n",
       " 'Tm5',\n",
       " 'TmY',\n",
       " 'adult CNS glial cell',\n",
       " 'adult brain perineurial glial cell',\n",
       " 'adult brain subperineurial glial cell',\n",
       " 'adult glial cell',\n",
       " 'adult neuropil associated glial cell',\n",
       " 'adult optic chiasma glial cell',\n",
       " 'adult optic lobe glial cell',\n",
       " 'adult optic lobe neuron',\n",
       " 'amacrine neuron',\n",
       " 'anatomical entity',\n",
       " 'anatomical structure',\n",
       " 'biological entity',\n",
       " 'cell',\n",
       " 'centrifugal neuron',\n",
       " 'centrifugal neuron C2',\n",
       " 'centrifugal neuron C3',\n",
       " 'cholinergic neuron',\n",
       " 'columnar neuron',\n",
       " 'columnar neuron T1',\n",
       " 'connected anatomical structure',\n",
       " 'continuant',\n",
       " 'distal medullary amacrine neuron',\n",
       " 'distal medullary amacrine neuron Dm12',\n",
       " 'distal medullary amacrine neuron Dm2',\n",
       " 'distal medullary amacrine neuron Dm8',\n",
       " 'ensheathing glial cell',\n",
       " 'glial cell',\n",
       " 'glial cell of the perineurium',\n",
       " 'glutamatergic neuron',\n",
       " 'independent continuant',\n",
       " 'inner perineural sheath cell',\n",
       " 'inner perineurial sheath cell',\n",
       " 'interneuron',\n",
       " 'intrinsic columnar neuron',\n",
       " 'intrinsic neuron',\n",
       " 'ipsilateral local interneuron',\n",
       " 'lamina wide-field cell',\n",
       " 'lamina wide-field cell Lawf2',\n",
       " 'local interneuron',\n",
       " 'material anatomical entity',\n",
       " 'material entity',\n",
       " 'medullary intrinsic neuron',\n",
       " 'medullary intrinsic neuron Mi1',\n",
       " 'medullary tangential neuron',\n",
       " 'medullary tangential neuron Mt1',\n",
       " 'narrow field columnar neuron',\n",
       " 'narrow field transmedullary neuron',\n",
       " 'neuron',\n",
       " 'neuropil associated CNS glial cell',\n",
       " 'neuropil associated glial cell',\n",
       " 'neuropil-associated CNS glial cell',\n",
       " 'neuropil-associated glial cell',\n",
       " 'neuropile glial cell',\n",
       " 'optic lobe intrinsic neuron',\n",
       " 'optic-lobe-associated cortex glial cell',\n",
       " 'outer perineural sheath cell',\n",
       " 'perineurial sheath cell',\n",
       " 'perineurial sheath glial cell',\n",
       " 'perineurial surface associated glial cell',\n",
       " 'proximal medullary amacrine neuron',\n",
       " 'proximal medullary amacrine neuron Pm3',\n",
       " 'reticular neuropil associated glial cell',\n",
       " 'somatic cell',\n",
       " 'subperineurial associated glial cell',\n",
       " 'subperineurial glial cell',\n",
       " 'supraesophageal ganglion neuron',\n",
       " 'surface associated glial cell',\n",
       " 'tangential neuron',\n",
       " 'transmedullary Y neuron',\n",
       " 'transmedullary Y neuron TmY14',\n",
       " 'transmedullary Y neuron TmY8',\n",
       " 'transmedullary neuron',\n",
       " 'transmedullary neuron Tm1',\n",
       " 'transmedullary neuron Tm2',\n",
       " 'transmedullary neuron Tm3a',\n",
       " 'transmedullary neuron Tm5',\n",
       " 'transmedullary neuron Tm5a',\n",
       " 'transmedullary neuron Tm5b',\n",
       " 'transmedullary neuron Tm5c',\n",
       " 'transmedullary neuron Tm9',\n",
       " 'unilateral intrinsic neuron',\n",
       " 'wide-field columnar neuron'}"
      ]
     },
     "execution_count": 4,
     "metadata": {},
     "output_type": "execute_result"
    }
   ],
   "source": [
    "# You can now query for \n",
    "mb.get_query_terms()"
   ]
  },
  {
   "cell_type": "code",
   "execution_count": 6,
   "metadata": {},
   "outputs": [
    {
     "data": {
      "text/plain": [
       "[('Tm9 - Cluster 9',\n",
       "  [{'name': 'transmedullary neuron Tm9', 'id': 'FBbt:00003797'}]),\n",
       " ('Tm1/TmY8 - Cluster 12',\n",
       "  [{'name': 'transmedullary Y neuron TmY8', 'id': 'FBbt:00003826'},\n",
       "   {'name': 'transmedullary neuron Tm1', 'id': 'FBbt:00003789'}]),\n",
       " ('TmY14 - Cluster 15',\n",
       "  [{'name': 'transmedullary Y neuron TmY14', 'id': 'FBbt:00111286'}]),\n",
       " ('Mi1/Tm2/Tm3 - Cluster 17',\n",
       "  [{'name': 'transmedullary neuron Tm3a', 'id': 'FBbt:00003791'},\n",
       "   {'name': 'transmedullary neuron Tm2', 'id': 'FBbt:00003790'},\n",
       "   {'name': 'medullary intrinsic neuron Mi1', 'id': 'FBbt:00003776'}]),\n",
       " ('Tm5ab - Cluster 37',\n",
       "  [{'name': 'transmedullary neuron Tm5b', 'id': 'FBbt:00110073'},\n",
       "   {'name': 'transmedullary neuron Tm5a', 'id': 'FBbt:00110072'}]),\n",
       " ('Dm8/Tm5c - Cluster 47',\n",
       "  [{'name': 'transmedullary neuron Tm5c', 'id': 'FBbt:00110074'},\n",
       "   {'name': 'distal medullary amacrine neuron Dm8', 'id': 'FBbt:00013774'}])]"
      ]
     },
     "execution_count": 6,
     "metadata": {},
     "output_type": "execute_result"
    }
   ],
   "source": [
    "# Query for clusters\n",
    "mb.query_by_ancestor('transmedullary neuron')\n"
   ]
  },
  {
   "cell_type": "code",
   "execution_count": null,
   "metadata": {},
   "outputs": [],
   "source": []
  }
 ],
 "metadata": {
  "kernelspec": {
   "display_name": "Python 3",
   "language": "python",
   "name": "python3"
  },
  "language_info": {
   "codemirror_mode": {
    "name": "ipython",
    "version": 3
   },
   "file_extension": ".py",
   "mimetype": "text/x-python",
   "name": "python",
   "nbconvert_exporter": "python",
   "pygments_lexer": "ipython3",
   "version": "3.7.3"
  }
 },
 "nbformat": 4,
 "nbformat_minor": 2
}
