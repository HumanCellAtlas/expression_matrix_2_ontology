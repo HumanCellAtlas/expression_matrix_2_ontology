{
 "cells": [
  {
   "cell_type": "markdown",
   "metadata": {},
   "source": [
    "### Matrix semantic map - snippets"
   ]
  },
  {
   "cell_type": "markdown",
   "metadata": {},
   "source": [
    "#### Some notes on requirements\n",
    "\n",
    "Works with loompy 2.0.2 in Python 3.6.  Other versions => some problems loading Scope loom files."
   ]
  },
  {
   "cell_type": "code",
   "execution_count": 1,
   "metadata": {},
   "outputs": [],
   "source": [
    "# Hacking module to python path (assuming local usage)\n",
    "import os\n",
    "import sys\n",
    "sys.path.append(os.getcwd()+\"/../src/\")"
   ]
  },
  {
   "cell_type": "code",
   "execution_count": 9,
   "metadata": {},
   "outputs": [
    {
     "name": "stdout",
     "output_type": "stream",
     "text": [
      "../src/json_schema/expression_matrix_semantic_map.json is a valid JSON schema\n",
      "Validation Passes\n"
     ]
    }
   ],
   "source": [
    "from matrix_semantic_map.matrix_map_tools import MapBuilder\n",
    "\n",
    "# Initialize MapBuilder object for Desplan optic lobe loom dataset:\n",
    "\n",
    "\n",
    "schema_path=(\"../src/json_schema/expression_matrix_semantic_map.json\")\n",
    "resources_dir = \"../src/matrix_semantic_map/test/resources/\"\n",
    "\n",
    "mb = MapBuilder(\n",
    "           loom=resources_dir + \"Desplan_Fly_AdultOpticLobe_57k.loom\",\n",
    "           schema=schema_path,\n",
    "           cell_type_fields=['attrs.MetaData.clusterings[*].clusters[*].description'])\n",
    "\n",
    "# Load up mapping of clusters to cell types\n",
    "mb.load_csv_map(resources_dir + \"Desplan_Fly_AdultOpticLobe_map.tsv\", sep='\\t')\n",
    "\n",
    "# Add details of ancestors (superclasses) of classes used in annotation.\n",
    "# Warning - this can be quite slow as it involves an OLS API call for each term used in annotation.\n",
    "mb.add_ancestor_lookup()\n",
    "\n",
    "# Commit mapping to loom file.  This loom file can now be used for queries\n",
    "\n",
    "full_map = mb.commit() # commit return json string for full map (#Hmmm - should be data structure...)"
   ]
  },
  {
   "cell_type": "code",
   "execution_count": 10,
   "metadata": {},
   "outputs": [
    {
     "ename": "TypeError",
     "evalue": "unhashable type: 'list'",
     "output_type": "error",
     "traceback": [
      "\u001b[0;31m---------------------------------------------------------------------------\u001b[0m",
      "\u001b[0;31mTypeError\u001b[0m                                 Traceback (most recent call last)",
      "\u001b[0;32m<ipython-input-10-5da2a0ec7183>\u001b[0m in \u001b[0;36m<module>\u001b[0;34m\u001b[0m\n\u001b[1;32m      1\u001b[0m \u001b[0;31m# You can now query for\u001b[0m\u001b[0;34m\u001b[0m\u001b[0;34m\u001b[0m\u001b[0;34m\u001b[0m\u001b[0m\n\u001b[0;32m----> 2\u001b[0;31m \u001b[0mmb\u001b[0m\u001b[0;34m.\u001b[0m\u001b[0mgenerate_report_of_query_terms\u001b[0m\u001b[0;34m(\u001b[0m\u001b[0;34m)\u001b[0m\u001b[0;34m\u001b[0m\u001b[0;34m\u001b[0m\u001b[0m\n\u001b[0m",
      "\u001b[0;32m/repos/expression_matrix_2_ontology/notebooks/../src/matrix_semantic_map/matrix_map_tools.py\u001b[0m in \u001b[0;36mgenerate_report_of_query_terms\u001b[0;34m(self)\u001b[0m\n\u001b[1;32m    136\u001b[0m         map(lambda x: out.update(x),\n\u001b[1;32m    137\u001b[0m                     set([y['ancestor_name_lookup']\n\u001b[0;32m--> 138\u001b[0;31m                     for y in self.semantic_map['semantic_map']]))\n\u001b[0m\u001b[1;32m    139\u001b[0m         \u001b[0mprint\u001b[0m\u001b[0;34m(\u001b[0m\u001b[0mout\u001b[0m\u001b[0;34m)\u001b[0m\u001b[0;34m\u001b[0m\u001b[0;34m\u001b[0m\u001b[0m\n\u001b[1;32m    140\u001b[0m \u001b[0;34m\u001b[0m\u001b[0m\n",
      "\u001b[0;31mTypeError\u001b[0m: unhashable type: 'list'"
     ]
    }
   ],
   "source": [
    "# You can now query for \n",
    "mb.get_query_terms()"
   ]
  },
  {
   "cell_type": "code",
   "execution_count": null,
   "metadata": {},
   "outputs": [],
   "source": [
    "# Query for clusters\n",
    "mb.query_by_ancestor('surface associated glial cell')\n"
   ]
  },
  {
   "cell_type": "code",
   "execution_count": null,
   "metadata": {},
   "outputs": [],
   "source": []
  }
 ],
 "metadata": {
  "kernelspec": {
   "display_name": "Python 3",
   "language": "python",
   "name": "python3"
  },
  "language_info": {
   "codemirror_mode": {
    "name": "ipython",
    "version": 3
   },
   "file_extension": ".py",
   "mimetype": "text/x-python",
   "name": "python",
   "nbconvert_exporter": "python",
   "pygments_lexer": "ipython3",
   "version": "3.6.8"
  }
 },
 "nbformat": 4,
 "nbformat_minor": 2
}
