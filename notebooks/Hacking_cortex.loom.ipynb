{
 "cells": [
  {
   "cell_type": "code",
   "execution_count": 1,
   "metadata": {},
   "outputs": [],
   "source": [
    "import requests\n",
    "\n",
    "cortex_request = requests.get(\"http://loom.linnarssonlab.org/clone/Previously%20Published/Cortex.loom\", stream=True)\n",
    "cortex_file = open(\"cortex.loom\", \"wb\")\n",
    "cortex_file.write(cortex_request.raw.read())\n",
    "cortex_file.close()"
   ]
  },
  {
   "cell_type": "code",
   "execution_count": null,
   "metadata": {},
   "outputs": [],
   "source": [
    "import loompy\n",
    "cortex = loompy.connect(\"cortex.loom\")"
   ]
  },
  {
   "cell_type": "code",
   "execution_count": 5,
   "metadata": {},
   "outputs": [
    {
     "data": {
      "text/plain": [
       "[('title', 'Cortex and hippocampus'),\n",
       " ('description', 'Cortex and hippocampus by Zeisel et al. 2015'),\n",
       " ('doi', 'doi:10.1126/science.aaa1934'),\n",
       " ('url',\n",
       "  'http://science.sciencemag.org/content/early/2015/02/18/science.aaa1934.full'),\n",
       " ('CreationDate', '2017/12/25 22:11:15'),\n",
       " ('last_modified', '20180405T232022.549660Z')]"
      ]
     },
     "execution_count": 5,
     "metadata": {},
     "output_type": "execute_result"
    }
   ],
   "source": [
    "list(cortex.attrs.items())"
   ]
  },
  {
   "cell_type": "code",
   "execution_count": 53,
   "metadata": {},
   "outputs": [
    {
     "data": {
      "text/plain": [
       "(21135, 3005)"
      ]
     },
     "execution_count": 53,
     "metadata": {},
     "output_type": "execute_result"
    }
   ],
   "source": [
    "cortex.shape"
   ]
  },
  {
   "cell_type": "code",
   "execution_count": 50,
   "metadata": {},
   "outputs": [],
   "source": [
    "def list_attributes(attrs):\n",
    "    for k,v in attrs:\n",
    "        uval = list(set(v))\n",
    "        if len(uval) < len(v):\n",
    "            print(k + ' => ' + str(uval[0:50]))"
   ]
  },
  {
   "cell_type": "code",
   "execution_count": 52,
   "metadata": {},
   "outputs": [
    {
     "name": "stdout",
     "output_type": "stream",
     "text": [
      "Gene => ['Mbl2', 'Cd163', 'Mir1898', 'Baz2b', 'P2ry13', 'Spag8', 'Rnase4', 'Mir654', 'Ip6k3', 'Gm16063', 'Fancf', 'Nfix', 'Cpb2', 'H2-Ab1', 'Ptpdc1', 'Hao2', 'Ammecr1', 'r_RLTR13G', 'Vmn1r31', 'Kcnh5', 'Gria1', 'Lims1', 'Rusc1', 'Chst14', 'Syf2', 'Glis3', '4833411C07Rik', 'r_MMERGLN-int', '8030462N17Rik', '1810007D17Rik', 'Gm8773', 'Map1lc3a', 'Speer6-ps1', 'Alpk3', 'Suclg2', 'Lmbrd2', 'Krt20', 'C430002E04Rik', 'Cilp', 'Slc44a4', 'Havcr2', 'A330040F15Rik', 'Ncoa3', 'Phka2', 'Cdca2', 'Zfp521', 'Kctd19', 'Ccer1', 'Chrm1', 'Acadl']\n",
      "GeneGroup => ['2', '9', '5', '1', '6', '-1', '0', '7', '8', '3', '4']\n",
      "GeneType => ['mRNA', 'Mitochondrial', 'Repeat', 'Spikein']\n"
     ]
    }
   ],
   "source": [
    "list_attributes(cortex.ra.items())"
   ]
  },
  {
   "cell_type": "code",
   "execution_count": 51,
   "metadata": {},
   "outputs": [
    {
     "name": "stdout",
     "output_type": "stream",
     "text": [
      "Age => ['23', '25', '27', '21', '28', '20', '31', '26', '22', '24']\n",
      "Class => ['oligodendrocytes', 'astrocytes_ependymal', 'pyramidal SS', 'endothelial-mural', 'pyramidal CA1', 'interneurons', 'microglia']\n",
      "Diameter => ['8.49', '9.72', '8.84', '9.88', '9.13', '9.82', '7.96', '19.1', '8.86', '20.3', '7.48', '8.19', '9.84', '10.2', '7.5', '9.62', '7.09', '8.36', '10.3', '21.4', '15.6', '17.4', '9.05', '6.75', '8.2', '7.82', '9.86', '13.7', '7.32', '25.6', '6.76', '18.2', '6.06', '6.59', '8.15', '19.2', '8.68', '9.91', '8.64', '8.34', '15', '9.81', '8.94', '6.45', '8.47', '7.54', '6.91', '18.8', '7.11', '9.92']\n",
      "Group => ['2', '9', '5', '1', '6', '7', '8', '3', '4']\n",
      "Sex => ['0', '-1', '1']\n",
      "Subclass => ['Int15', 'Mgl2', 'Int4', 'Int10', 'Peric', 'Pvm1', 'Oligo1', '(none)', 'S1PyrL5', 'Int8', 'CA1Pyr1', 'Pvm2', 'Vend1', 'Oligo5', 'Vend2', 'Int7', 'Int12', 'Oligo6', 'Oligo4', 'Vsmc', 'S1PyrL4', 'Astro2', 'Int2', 'Int11', 'Int13', 'CA2Pyr2', 'SubPyr', 'Int14', 'Int5', 'S1PyrL6b', 'Epend', 'Int1', 'ClauPyr', 'CA1Pyr2', 'Oligo3', 'S1PyrL23', 'Int6', 'Int9', 'CA1PyrInt', 'Int3', 'S1PyrDL', 'S1PyrL6', 'Int16', 'S1PyrL5a', 'Choroid', 'Astro1', 'Mgl1', 'Oligo2']\n",
      "Tissue => ['sscortex', 'ca1hippocampus']\n",
      "Total_mRNA => ['2778', '7179', '26162', '11662', '38564', '13051', '19995', '3768', '7731', '19655', '26628', '8953', '22101', '6762', '10936', '3842', '22626', '14242', '3173', '41451', '14306', '3276', '14983', '3558', '26744', '4913', '13949', '36481', '8350', '24596', '25910', '13509', '19108', '4022', '5327', '12920', '16869', '9711', '4509', '3285', '4016', '14998', '10302', '10820', '32466', '18509', '7931', '23328', '11542', '4568']\n",
      "Well => ['93', '31', '4', '48', '9', '45', '6', '43', '80', '61', '55', '89', '20', '92', '30', '27', '71', '63', '3', '70', '34', '96', '5', '47', '42', '28', '1', '78', '54', '15', '24', '37', '83', '88', '87', '58', '85', '18', '13', '51', '62', '2', '50', '36', '11', '68', '95', '22', '38', '77']\n"
     ]
    }
   ],
   "source": [
    "list_attributes(cortex.ca.items())"
   ]
  },
  {
   "cell_type": "markdown",
   "metadata": {},
   "source": [
    "#### Fields we might provide semantic maps for:\n",
    "\n",
    "* Gene type\n",
    "* Class (= Cell type)\n",
    "* subClass ( = more specific Cell type)\n",
    "* Tissue\n",
    "* Sex (but what do the entries mean?)\n",
    "\n",
    "With the help of the paper and some searching on the Ontology Lookup Service, these can easily be mapped to cell ontology terms:  'interneuron': \"CL:0000099\", 'oligodendrocyte': 'CL:0000128', 'microglial cell' : 'CL:0000129', 'pyramidal neuron' : 'CL:0000598', 'ependymal cell': 'CL:0000065', 'astrocyte' : 'CL:0000127', 'endothelial cell': 'CL:0000115'\n",
    "\n",
    "Note that some of the annotation strings map to multiple cell types, for example, astrocytes_ependymal corresponds to  'ependymal cell': 'CL:0000065' OR 'astrocyte' : 'CL:0000127'\n",
    "\n",
    "Similarly, the two values in the tissue field, can be mapped as follows:\n",
    "\n",
    "'CA1 field of hippocampus': 'UBERON:0003881',  'somatosensenory cortex': 'UBERON:0008930'\n"
   ]
  },
  {
   "cell_type": "code",
   "execution_count": null,
   "metadata": {},
   "outputs": [],
   "source": [
    "# (Crude) Function to roll map element\n",
    "\n",
    "def roll_map(name, applicable_to, maps_to, relation = '', obj = ''):\n",
    "    out = { \"name\": name, \"applicable_to\": applicable_to,\n",
    "              \"maps_to\": maps_to }\n",
    "    if relation:\n",
    "        out['subject_of'] = { \"relation\": relation, \"object\": obj }\n",
    "        \n",
    "\n",
    "mappings = []\n",
    "\n",
    "mappings.append(roll_map(\"interneurons\", [\"ca.Class\"], { \"name\": \"interneuron\",  \"id\": \"CL:0000099\" },\n",
    "               relation={ \"name\": \"has_soma_location\", \"id\": \"RO:0002100\" }, obj=\"ca.Tissue\" ))\n",
    "\n",
    "\n",
    "mappings.append(roll_map())"
   ]
  },
  {
   "cell_type": "code",
   "execution_count": null,
   "metadata": {},
   "outputs": [],
   "source": [
    "# Validating JSON\n",
    "\n",
    "import \n",
    "\n",
    "# Inserting JSON into header"
   ]
  },
  {
   "cell_type": "code",
   "execution_count": 60,
   "metadata": {},
   "outputs": [],
   "source": [
    "# Function to translate dot paths to Loom attributes.\n",
    "\n",
    "import warnings\n",
    "import json\n",
    "\n",
    "def check_string(x):\n",
    "    if type(x)== 'str':\n",
    "        return true\n",
    "    else:\n",
    "        warnings.warn\n",
    "        \n",
    "def is_json(myjson):\n",
    "  try:\n",
    "    json_object = json.loads(myjson)\n",
    "  except:\n",
    "    return False\n",
    "  return True\n",
    "\n",
    "def dot_path2jpath(dot.path, json_string):\n",
    "    json.loads(json_string)\n",
    "    # Something with JPATH\n",
    "    return \n",
    "\n",
    "def resolve_dot_path(loom, path):\n",
    "    elements = path.split('.')\n",
    "    if elements[0] == ca:\n",
    "        column = loom.ca[elements[1]]\n",
    "        if check_string(column[0]):\n",
    "            return list(set(column))\n",
    "    if elements[0] == ra:\n",
    "        row = loom.ra[elements[1]]        \n",
    "        if check_string(row[0]):\n",
    "            return list(set(row))        \n",
    "    if elements[0] == attrs:\n",
    "        attr = loom.attr[element[1]\n",
    "        if is_json(attr):\n",
    "            return dot_path2jpath(attr)\n",
    "        else:\n",
    "            return [attr]\n",
    "        \n",
    "# Validation - do all maps resolve to terms used.\n",
    "\n",
    "# Validation - ontology term IRI resolution\n",
    "\n",
    "# Function to query by ontology term\n",
    "\n",
    "def query_by_ontology_name:\n",
    "    return\n",
    "    \n",
    "def query_by_ontology_id:\n",
    "    return\n",
    "    \n",
    "\n",
    "# Function for Ontology term query with grouping (via OLS)"
   ]
  },
  {
   "cell_type": "code",
   "execution_count": null,
   "metadata": {},
   "outputs": [],
   "source": []
  }
 ],
 "metadata": {
  "kernelspec": {
   "display_name": "Python 3",
   "language": "python",
   "name": "python3"
  },
  "language_info": {
   "codemirror_mode": {
    "name": "ipython",
    "version": 3
   },
   "file_extension": ".py",
   "mimetype": "text/x-python",
   "name": "python",
   "nbconvert_exporter": "python",
   "pygments_lexer": "ipython3",
   "version": "3.6.7"
  }
 },
 "nbformat": 4,
 "nbformat_minor": 2
}
